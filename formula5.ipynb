{
 "cells": [
  {
   "cell_type": "code",
   "execution_count": 1,
   "id": "b6e6f2cb-be0b-450b-aa3d-fd41965f9f7f",
   "metadata": {},
   "outputs": [],
   "source": [
    "import sympy as sp\n",
    "from sympy import diff,dsolve,simplify,Function,I"
   ]
  },
  {
   "cell_type": "code",
   "execution_count": 2,
   "id": "f60cd89c-ad2a-4322-aeb3-cbd2b4e67eb3",
   "metadata": {},
   "outputs": [],
   "source": [
    "a = Function('a')\n",
    "b = Function('b')\n",
    "ada = Function('ada')\n",
    "bdb = Function('bdb')\n",
    "adb = Function('adb')\n",
    "mu = sp.Symbol('mu',real=False)\n",
    "Gamma = sp.Symbol('Gamma',real=True,positive=True)\n",
    "omega = sp.Symbol('omega',real=True,positive=True)\n",
    "omegaL = sp.Symbol('omega_L',real=True,positive=True)\n",
    "J = sp.Symbol('J',real=False)\n",
    "Lambda_a = sp.Symbol('Lambda_a',real=True,positive=True)\n",
    "Lambda_b = sp.Symbol('Lambda_b',real=True,positive=True)\n",
    "Epsilon = sp.Symbol('Epsilon',real=True,positive=True)\n",
    "t = sp.Symbol('t',real=True)\n"
   ]
  },
  {
   "cell_type": "code",
   "execution_count": 3,
   "id": "5431351d-eead-41ef-ae8c-bc9e47eabbe2",
   "metadata": {},
   "outputs": [],
   "source": [
    "eq1 = diff(a(t),t,1)+(Lambda_a/2+I*omega)*a(t)+I*sp.exp(-I*omegaL*t)*Epsilon\n",
    "r1 = dsolve(eq1,ics={a(0):0})"
   ]
  },
  {
   "cell_type": "code",
   "execution_count": 4,
   "id": "e8179110-516b-499c-916d-7540c73dc333",
   "metadata": {},
   "outputs": [
    {
     "data": {
      "text/latex": [
       "$\\displaystyle - \\frac{2 i \\mathrm{E} e^{- i \\omega_{L} t}}{\\Lambda_{a} + 2 i \\omega - 2 i \\omega_{L}} + \\frac{2 i \\mathrm{E} e^{- t \\left(\\frac{\\Lambda_{a}}{2} + i \\omega\\right)}}{\\Lambda_{a} + 2 i \\omega - 2 i \\omega_{L}}$"
      ],
      "text/plain": [
       "-2*I*Epsilon*exp(-I*omega_L*t)/(Lambda_a + 2*I*omega - 2*I*omega_L) + 2*I*Epsilon*exp(-t*(Lambda_a/2 + I*omega))/(Lambda_a + 2*I*omega - 2*I*omega_L)"
      ]
     },
     "execution_count": 4,
     "metadata": {},
     "output_type": "execute_result"
    }
   ],
   "source": [
    "r1 = r1.rhs\n",
    "r1"
   ]
  },
  {
   "cell_type": "code",
   "execution_count": 6,
   "id": "3b5170b1-d4f0-445c-9832-2371ff700ac6",
   "metadata": {},
   "outputs": [
    {
     "data": {
      "text/latex": [
       "$\\displaystyle \\frac{\\frac{4 \\mathrm{E}^{2} \\Lambda_{a}^{2} e^{- \\Lambda_{a} t}}{\\Lambda_{a}^{2} + 4 \\omega^{2} - 8 \\omega \\omega_{L} + 4 \\omega_{L}^{2}} + \\frac{16 \\mathrm{E}^{2} \\omega^{2} e^{- \\Lambda_{a} t}}{\\Lambda_{a}^{2} + 4 \\omega^{2} - 8 \\omega \\omega_{L} + 4 \\omega_{L}^{2}} - \\frac{32 \\mathrm{E}^{2} \\omega \\omega_{L} e^{- \\Lambda_{a} t}}{\\Lambda_{a}^{2} + 4 \\omega^{2} - 8 \\omega \\omega_{L} + 4 \\omega_{L}^{2}} + \\frac{16 \\mathrm{E}^{2} \\omega_{L}^{2} e^{- \\Lambda_{a} t}}{\\Lambda_{a}^{2} + 4 \\omega^{2} - 8 \\omega \\omega_{L} + 4 \\omega_{L}^{2}} + 4 \\mathrm{E}^{2} - 8 \\mathrm{E}^{2} e^{- \\frac{\\Lambda_{a} t}{2}} \\cos{\\left(t \\left(\\omega - \\omega_{L}\\right) \\right)}}{\\Lambda_{a}^{2} + 4 \\omega^{2} - 8 \\omega \\omega_{L} + 4 \\omega_{L}^{2}}$"
      ],
      "text/plain": [
       "(4*Epsilon**2*Lambda_a**2*exp(-Lambda_a*t)/(Lambda_a**2 + 4*omega**2 - 8*omega*omega_L + 4*omega_L**2) + 16*Epsilon**2*omega**2*exp(-Lambda_a*t)/(Lambda_a**2 + 4*omega**2 - 8*omega*omega_L + 4*omega_L**2) - 32*Epsilon**2*omega*omega_L*exp(-Lambda_a*t)/(Lambda_a**2 + 4*omega**2 - 8*omega*omega_L + 4*omega_L**2) + 16*Epsilon**2*omega_L**2*exp(-Lambda_a*t)/(Lambda_a**2 + 4*omega**2 - 8*omega*omega_L + 4*omega_L**2) + 4*Epsilon**2 - 8*Epsilon**2*exp(-Lambda_a*t/2)*cos(t*(omega - omega_L)))/(Lambda_a**2 + 4*omega**2 - 8*omega*omega_L + 4*omega_L**2)"
      ]
     },
     "execution_count": 6,
     "metadata": {},
     "output_type": "execute_result"
    }
   ],
   "source": [
    "eq3 = diff(ada(t),t,1)+Lambda_a*ada(t)+2*sp.im(sp.exp(I*omegaL*t)*Epsilon*r1)\n",
    "r3 = dsolve(eq3,ics={ada(0):0})\n",
    "r3 = r3.rhs\n",
    "r3"
   ]
  },
  {
   "cell_type": "code",
   "execution_count": 7,
   "id": "d3b84c79-9d1d-4dd5-9c9a-dcd3c2ec8845",
   "metadata": {},
   "outputs": [
    {
     "data": {
      "text/latex": [
       "$\\displaystyle 21.6333153055707 + 21.6333153055818 e^{- 0.043 t} - 43.2666306111414 e^{- 0.0215 t}$"
      ],
      "text/plain": [
       "21.6333153055707 + 21.6333153055818*exp(-0.043*t) - 43.2666306111414*exp(-0.0215*t)"
      ]
     },
     "execution_count": 7,
     "metadata": {},
     "output_type": "execute_result"
    }
   ],
   "source": [
    "omega_val = 1\n",
    "omegaL_val = omega_val\n",
    "Epsilon_val = 0.1*omega_val\n",
    "Gamma_val = 0.04*omega_val\n",
    "kappa_val = 0.003*omega_val\n",
    "Lambda_val = Gamma_val+kappa_val\n",
    "\n",
    "r3f = r3.subs({Epsilon:Epsilon_val,omega:omega_val,\\\n",
    "               omegaL:omegaL_val,Gamma:Gamma_val,\\\n",
    "               Lambda_a:Lambda_val})\n",
    "r3f"
   ]
  },
  {
   "cell_type": "code",
   "execution_count": 8,
   "id": "fb46a7a5-c2dd-4a21-a8c6-1fafc10ef3a2",
   "metadata": {},
   "outputs": [
    {
     "data": {
      "text/latex": [
       "$\\displaystyle 21.6333153055706 \\left(1 - e^{- 0.0215 t}\\right)^{2}$"
      ],
      "text/plain": [
       "21.6333153055706*(1 - exp(-0.0215*t))**2"
      ]
     },
     "execution_count": 8,
     "metadata": {},
     "output_type": "execute_result"
    }
   ],
   "source": [
    "# ada的解析解\n",
    "Lambda = sp.Symbol('Lambda')\n",
    "ada_ana = 4*omega*Epsilon**2*(1-sp.exp(-1/2*Lambda*t))**2/Lambda**2\n",
    "ada_anaf = ada_ana.subs({Epsilon:Epsilon_val,omega:omega_val,Lambda:Lambda_val})\n",
    "ada_anaf"
   ]
  },
  {
   "cell_type": "markdown",
   "id": "f60cfbc0-7d7b-4b01-9e98-d763ede5646d",
   "metadata": {},
   "source": [
    "# 中期检查\n",
    "检查检查$\\langle a^\\dagger a\\rangle$是否正确\n",
    "\n",
    "同时，如果$\\langle a^\\dagger a\\rangle$正确的话，那么$\\langle a \\rangle$也必定正确，因为，\n",
    "$$\n",
    "\\frac{d\\langle a^\\dagger a\\rangle}{dt}=-\\Lambda_a\\langle a^\\dagger a\\rangle - 2Im\\left\\{e^{i\\omega_Lt}\\epsilon\\langle a\\rangle\\right\\}\n",
    "$$\n",
    "\n",
    "想要求解$\\langle a^\\dagger a\\rangle$的话，必然要用到$\\langle a \\rangle$，所以如果$\\langle a^\\dagger a\\rangle$正确的话，那么$\\langle a \\rangle$也必然正确。"
   ]
  },
  {
   "cell_type": "code",
   "execution_count": 9,
   "id": "41f9d0ac-838f-42ca-9a31-c8d7df0c1318",
   "metadata": {},
   "outputs": [
    {
     "data": {
      "image/png": "[encoded data removed]",
      "text/plain": [
       "<Figure size 640x480 with 1 Axes>"
      ]
     },
     "metadata": {},
     "output_type": "display_data"
    }
   ],
   "source": [
    "import numpy as np\n",
    "import matplotlib.pyplot as plt\n",
    "\n",
    "tlist = np.linspace(0,500)\n",
    "r3ff = sp.lambdify(t,r3f,'numpy')\n",
    "ada_anaf = sp.lambdify(t,ada_anaf,'numpy')\n",
    "\n",
    "r3r = r3ff(tlist)\n",
    "r3_ana = ada_anaf(tlist)\n",
    "plt.plot(0.02*tlist,r3r,'r',label='Numerical')\n",
    "plt.plot(0.02*tlist,r3_ana,'g--',label='Analysis')\n",
    "plt.legend()\n",
    "plt.xticks([0,2,4,6,8,10],[\"0\",\"2\",\"4\",\"6\",\"8\",\"10\"])\n",
    "plt.show()"
   ]
  },
  {
   "cell_type": "markdown",
   "id": "79f0dced-c1e6-4d2d-9aed-3d38a268d9f7",
   "metadata": {},
   "source": [
    "## 结果\n",
    "正确！下面推导$\\langle b^\\dagger b\\rangle$,并且验证是否正确\n"
   ]
  },
  {
   "cell_type": "code",
   "execution_count": 33,
   "id": "b0232cb4-4722-42f4-8615-28f1b47c8be7",
   "metadata": {},
   "outputs": [
    {
     "data": {
      "text/latex": [
       "$\\displaystyle b{\\left(t \\right)} = 0.186046511627907 i t e^{- t \\left(0.0215 + i\\right)} + 8.65332612222823 i e^{- t \\left(0.0215 + 1.0 i\\right)} - 8.65332612222823 i e^{- i t}$"
      ],
      "text/plain": [
       "Eq(b(t), 0.186046511627907*I*t*exp(-t*(0.0215 + I)) + 8.65332612222823*I*exp(-t*(0.0215 + 1.0*I)) - 8.65332612222823*I*exp(-I*t))"
      ]
     },
     "execution_count": 33,
     "metadata": {},
     "output_type": "execute_result"
    }
   ],
   "source": [
    "eq2 = diff(b(t),t,1)+(Lambda_b/2+I*omega)*b(t)-sp.conjugate(mu)*Gamma*r1\n",
    "eq2 = eq2.subs({Epsilon:Epsilon_val,omega:omega_val,\\\n",
    "               omegaL:omegaL_val,Gamma:Gamma_val,\\\n",
    "               Lambda_a:Lambda_val,Lambda_b:Lambda_val,\\\n",
    "               mu:-I})\n",
    "bt = sp.dsolve(eq2,ics={b(0):0})\n",
    "bt"
   ]
  },
  {
   "cell_type": "code",
   "execution_count": 34,
   "id": "9650ab42-8a01-479d-b023-26a4642b0a3e",
   "metadata": {},
   "outputs": [],
   "source": [
    "btr=bt.rhs # 到底还能不能算出来？解个方程还需要这么久吗？我也是服了\n",
    "# eq2"
   ]
  },
  {
   "cell_type": "code",
   "execution_count": 35,
   "id": "b535221c-bf6f-4f0a-a3fd-77ec37009a24",
   "metadata": {},
   "outputs": [],
   "source": [
    "eq4 = diff(bdb(t),t,1)+Lambda_b*bdb(t)-2*sp.re(mu*Gamma*adb(t))\n",
    "eq5 = diff(adb(t),t,1)+(Lambda_a+Lambda_b)/2*adb(t)\\\n",
    "    -sp.conjugate(mu)*Gamma*ada_ana-I*sp.exp(I*omegaL*t)*btr\n"
   ]
  },
  {
   "cell_type": "code",
   "execution_count": 37,
   "id": "94f8e229-96a2-4603-828f-2576098ef3b6",
   "metadata": {},
   "outputs": [
    {
     "data": {
      "text/latex": [
       "$\\displaystyle - 0.865332612222823 \\left(1.0 - e^{- 0.0215 t}\\right)^{2} - i \\left(0.186046511627907 i t e^{- t \\left(0.0215 + i\\right)} + 8.65332612222823 i e^{- t \\left(0.0215 + 1.0 i\\right)} - 8.65332612222823 i e^{- i t}\\right) e^{i t} + 0.043 \\operatorname{adb}{\\left(t \\right)} + \\frac{d}{d t} \\operatorname{adb}{\\left(t \\right)}$"
      ],
      "text/plain": [
       "-0.865332612222823*(1.0 - exp(-0.0215*t))**2 - I*(0.186046511627907*I*t*exp(-t*(0.0215 + I)) + 8.65332612222823*I*exp(-t*(0.0215 + 1.0*I)) - 8.65332612222823*I*exp(-I*t))*exp(I*t) + 0.043*adb(t) + Derivative(adb(t), t)"
      ]
     },
     "execution_count": 37,
     "metadata": {},
     "output_type": "execute_result"
    }
   ],
   "source": [
    "# 最后算出来的总是差着一点，感觉应该就是一个小地方还存在着一点点的错误，因为下面的图就差一点\n",
    "eq4 = eq4.subs({Epsilon:Epsilon_val,omega:omega_val,\\\n",
    "               omegaL:omegaL_val,Gamma:Gamma_val,\\\n",
    "               Lambda_a:Lambda_val,Lambda_b:Lambda_val,\\\n",
    "               mu:1})\n",
    "eq5 = eq5.subs({Epsilon:Epsilon_val,omega:omega_val,\\\n",
    "               omegaL:omegaL_val,Gamma:Gamma_val,\\\n",
    "               Lambda_a:Lambda_val,Lambda_b:Lambda_val,\\\n",
    "               Lambda:Lambda_val,mu:1}).evalf()\n",
    "\n",
    "\n",
    "eq5"
   ]
  },
  {
   "cell_type": "code",
   "execution_count": 38,
   "id": "51240765-a3a1-407b-bb84-b5f29797a50e",
   "metadata": {},
   "outputs": [
    {
     "data": {
      "text/latex": [
       "$\\displaystyle \\operatorname{bdb}{\\left(t \\right)} = 0.0346133044889129 t^{2} e^{- 0.043 t} - 11.2694479731344 t e^{- 0.043 t} - 32.1984227803841 t e^{- 0.0215 t} + 411.840291377006 - 1609.92113901921 e^{- 0.043 t} + 1198.0808476422 e^{- 0.0215 t}$"
      ],
      "text/plain": [
       "Eq(bdb(t), 0.0346133044889129*t**2*exp(-0.043*t) - 11.2694479731344*t*exp(-0.043*t) - 32.1984227803841*t*exp(-0.0215*t) + 411.840291377006 - 1609.92113901921*exp(-0.043*t) + 1198.0808476422*exp(-0.0215*t))"
      ]
     },
     "execution_count": 38,
     "metadata": {},
     "output_type": "execute_result"
    }
   ],
   "source": [
    "r2 = dsolve([eq4,eq5],ics={adb(0):0,bdb(0):0})\n",
    "r2[0]"
   ]
  },
  {
   "cell_type": "code",
   "execution_count": 39,
   "id": "871f7df1-715f-47a3-9cc3-b99be3f8aa70",
   "metadata": {},
   "outputs": [
    {
     "data": {
      "text/latex": [
       "$\\displaystyle 0.0346133044889129 t^{2} e^{- 0.043 t} - 11.2694479731344 t e^{- 0.043 t} - 32.1984227803841 t e^{- 0.0215 t} + 411.840291377006 - 1609.92113901921 e^{- 0.043 t} + 1198.0808476422 e^{- 0.0215 t}$"
      ],
      "text/plain": [
       "0.0346133044889129*t**2*exp(-0.043*t) - 11.2694479731344*t*exp(-0.043*t) - 32.1984227803841*t*exp(-0.0215*t) + 411.840291377006 - 1609.92113901921*exp(-0.043*t) + 1198.0808476422*exp(-0.0215*t)"
      ]
     },
     "execution_count": 39,
     "metadata": {},
     "output_type": "execute_result"
    }
   ],
   "source": [
    "rb = r2[0].rhs\n",
    "rb.evalf() # 已经算出解析解了"
   ]
  },
  {
   "cell_type": "code",
   "execution_count": 40,
   "id": "384c31a6-9764-41b8-b4e4-1a526b78bde4",
   "metadata": {},
   "outputs": [
    {
     "data": {
      "text/latex": [
       "$\\displaystyle 74.8800529776375 \\left(-2 + e^{- 0.0215 t}\\right) e^{- 0.0215 t} + 74.8800529776375$"
      ],
      "text/plain": [
       "74.8800529776375*(-2 + exp(-0.0215*t))*exp(-0.0215*t) + 74.8800529776375"
      ]
     },
     "execution_count": 40,
     "metadata": {},
     "output_type": "execute_result"
    }
   ],
   "source": [
    "# 论文中给出的解析解\n",
    "bdb_ana = 16*omega*Gamma**2*Epsilon**2/Lambda**4\\\n",
    "        *(1+sp.exp(-Lambda*t/2)*(sp.exp(-Lambda*t/2)-2))\n",
    "bdb_ana_f = bdb_ana.subs({Epsilon:Epsilon_val,omega:omega_val,\\\n",
    "               Gamma:Gamma_val,Lambda:Lambda_val})\n",
    "bdb_ana_f"
   ]
  },
  {
   "cell_type": "code",
   "execution_count": 42,
   "id": "26f32737-2821-4aa0-afa9-70c566a49498",
   "metadata": {},
   "outputs": [
    {
     "data": {
      "text/plain": [
       "<matplotlib.legend.Legend at 0x170ee442820>"
      ]
     },
     "execution_count": 42,
     "metadata": {},
     "output_type": "execute_result"
    },
    {
     "data": {
      "image/png": "[encoded data removed]",
      "text/plain": [
       "<Figure size 640x480 with 1 Axes>"
      ]
     },
     "metadata": {},
     "output_type": "display_data"
    }
   ],
   "source": [
    "rbf = sp.lambdify(t,rb,'numpy')\n",
    "rbr = rbf(tlist)\n",
    "bdb_ana_ff = sp.lambdify(t,bdb_ana_f,'numpy')\n",
    "rbana = bdb_ana_ff(tlist)\n",
    "plt.plot(tlist*0.02,rbana,'r',label='Analysis')\n",
    "plt.plot(tlist*0.02,rbr,'g--',label='Numerical')\n",
    "plt.legend()"
   ]
  },
  {
   "cell_type": "markdown",
   "id": "4ba1bcc1-eaea-43d0-b195-840ca0063378",
   "metadata": {},
   "source": [
    "# 分析\n",
    "上面的就是不一样，但是趋势好像是一样的，只是数值不一样，按照经验推测出错的地方应该很小。但是难就难在，论文中给出的解析解实在是太少了，我们没得对比，还是得仔细看论文中给出的公式有没有打错！\n",
    "\n",
    "还有一点就是$\\mu$的取值，但是看$E_B^{nr}(t)$的解析表达式中没有$\\mu$这个$\\mu$的取值应该是没有影响的吧"
   ]
  },
  {
   "cell_type": "code",
   "execution_count": null,
   "id": "b83e0543-3356-4771-a948-e6547e4ab52e",
   "metadata": {},
   "outputs": [],
   "source": []
  }
 ],
 "metadata": {
  "kernelspec": {
   "display_name": "Python 3 (ipykernel)",
   "language": "python",
   "name": "python3"
  },
  "language_info": {
   "codemirror_mode": {
    "name": "ipython",
    "version": 3
   },
   "file_extension": ".py",
   "mimetype": "text/x-python",
   "name": "python",
   "nbconvert_exporter": "python",
   "pygments_lexer": "ipython3",
   "version": "3.9.13"
  }
 },
 "nbformat": 4,
 "nbformat_minor": 5
}
