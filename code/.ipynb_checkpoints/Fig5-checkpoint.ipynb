{
 "cells": [
  {
   "cell_type": "code",
   "execution_count": 1,
   "id": "2e85d41d-63ab-4070-a1eb-6e15f3a7b8aa",
   "metadata": {},
   "outputs": [],
   "source": [
    "import numpy as np\n",
    "import matplotlib.pyplot as plt\n",
    "import sympy as sp\n",
    "from sympy import diff,dsolve,simplify,Function,I,Equality"
   ]
  },
  {
   "cell_type": "code",
   "execution_count": 2,
   "id": "c54c2f27-7a6c-4348-89d1-bd21dfe1dd01",
   "metadata": {},
   "outputs": [],
   "source": [
    "a = Function('a')\n",
    "b = Function('b')\n",
    "ada = Function('ada')\n",
    "bdb = Function('bdb')\n",
    "adb = Function('adb')\n",
    "# 定义参数\n",
    "omega = sp.Symbol('omega',real=True,positive=True)\n",
    "omegaL = sp.Symbol('omega_L',real=True,positive=True)\n",
    "Epsilon = sp.Symbol('Epsilon',real=True,positive=True)\n",
    "kappa_a,kappa_b = sp.symbols('kappa_a,kappa_b',real=True,positive=True)\n",
    "Gamma,Gamma_a,Gamma_b = sp.symbols('Gamma,Gamma_a,Gamma_b',real=True,positive=True)\n",
    "Lambda_a,Lambda_b = sp.symbols(\"Lambda_a,Lambda_b\",real=True,positive=True)\n",
    "p_a,p_b = sp.symbols('p_a,p_b',real=True,positive=True)\n",
    "mu = sp.Symbol('mu',real=False)\n",
    "J = sp.Symbol('J',real=False)\n",
    "t = sp.Symbol('t',real=True)"
   ]
  },
  {
   "cell_type": "code",
   "execution_count": 3,
   "id": "7f388d53-3d61-43c1-afad-7e6984f1f7b6",
   "metadata": {},
   "outputs": [],
   "source": [
    "# ===================================基础符号赋值==================================\n",
    "omega_val = 1\n",
    "omegaL_val= omega_val\n",
    "Gamma_val = 0.01*omega_val\n",
    "kappa_a_val = 0.1*omega_val\n",
    "kappa_b_val = 0.003*omega_val\n",
    "J_val = Gamma_val/2\n",
    "Epsilon_val = 0.1*omega_val\n",
    "# 正常非互易条件下的符号赋值\n",
    "Lambda_a_val = kappa_a_val+Gamma_val\n",
    "Lambda_b_val = kappa_b_val+Gamma_val\n",
    "mu_val = I\n",
    "# 最优非互易条件下的符号赋值\n",
    "opnr_xi_val = sp.sqrt(kappa_a_val/kappa_b_val)\n",
    "opnr_Gamma_a_val = opnr_xi_val*Gamma_val\n",
    "opnr_Gamma_b_val = Gamma_val / opnr_xi_val\n",
    "opnr_Lambda_a_val = kappa_a_val+opnr_Gamma_a_val\n",
    "opnr_Lambda_b_val = kappa_b_val+opnr_Gamma_b_val"
   ]
  },
  {
   "cell_type": "code",
   "execution_count": 4,
   "id": "ea2a9cf0-a4c1-49d8-a7a5-3761160fd1b8",
   "metadata": {},
   "outputs": [],
   "source": [
    "#======================================   替换函数  ================================\n",
    "# 非互易 最优 条件的替换\n",
    "def subs_opnrmy(para):\n",
    "    para = para.subs({\n",
    "       Lambda_a:opnr_Lambda_a_val,Lambda_b:opnr_Lambda_b_val,\\\n",
    "       Epsilon:Epsilon_val,omega:omega_val,omegaL:omegaL_val,\\\n",
    "       mu:mu_val,Gamma:Gamma_val,J:J_val\n",
    "    })\n",
    "    return para\n",
    "# 非互易 正常 条件下的替换\n",
    "def subs_nrmy(para):\n",
    "    para = para.subs({\n",
    "        Lambda_a:Lambda_a_val,Lambda_b:Lambda_b_val,Gamma:Gamma_val,\\\n",
    "        Epsilon:Epsilon_val,omega:omega_val,omegaL:omegaL_val,\\\n",
    "        mu:mu_val,J:J_val\n",
    "    })\n",
    "    return para\n",
    "# 互易条件下的替换\n",
    "def subs_rmy(para):\n",
    "    para = para.subs({\n",
    "        kappa_a:kappa_a_val,kappa_b:kappa_b_val,\\\n",
    "        omega:omega_val,omegaL:omegaL_val,\\\n",
    "        Epsilon:Epsilon_val,J:J_val\n",
    "    })\n",
    "    return para"
   ]
  },
  {
   "cell_type": "code",
   "execution_count": 5,
   "id": "85d11d60-c4dd-4452-b924-523188c764b1",
   "metadata": {},
   "outputs": [],
   "source": [
    "# =========================================== 非互易正常条件下的方程组 ==================\n",
    "nr_eq1 = Equality(diff(a(t),t,1),-(Lambda_a/2+I*omega)*a(t)-I*Epsilon*sp.exp(-I*omegaL*t))\n",
    "nr_eq2 = Equality(diff(b(t),t,1),-(Lambda_b/2+I*omega)*b(t)+sp.conjugate(mu)*Gamma*a(t))\n",
    "# 开始进行替换\n",
    "nr_eq1 = subs_nrmy(nr_eq1)\n",
    "nr_eq2 = subs_nrmy(nr_eq2)\n",
    "# 求解微分方程组\n",
    "rab = dsolve([nr_eq1,nr_eq2],ics={a(0):0,b(0):0})\n",
    "ra = rab[0].rhs\n",
    "rb = rab[1].rhs\n",
    "nr_rbdb = sp.conjugate(rb)*rb"
   ]
  },
  {
   "cell_type": "code",
   "execution_count": 18,
   "id": "08e89071-a7d8-460b-a23f-184052f88c35",
   "metadata": {},
   "outputs": [],
   "source": [
    "# ========================================== 非互易最优条件下的方程组 ===================\n",
    "opnr_eq1 = Equality(diff(a(t),t,1),-(Lambda_a/2+I*omega)*a(t)-I*Epsilon*sp.exp(-I*omegaL*t))\n",
    "opnr_eq2 = Equality(diff(b(t),t,1),-(Lambda_b/2+I*omega)*b(t)+sp.conjugate(mu)*Gamma*a(t))\n",
    "# 替换\n",
    "opnr_eq1 = subs_opnrmy(opnr_eq1)\n",
    "opnr_eq2 = subs_opnrmy(opnr_eq2)\n",
    "# 求解微分方程\n",
    "rab = dsolve([opnr_eq1,opnr_eq2],ics={a(0):0,b(0):0})\n",
    "ra = rab[0].rhs\n",
    "rb = rab[1].rhs\n",
    "opnr_rbdb = sp.conjugate(rb)*rb"
   ]
  },
  {
   "cell_type": "code",
   "execution_count": 19,
   "id": "a622a032-ce84-497f-9155-893abc0d4107",
   "metadata": {},
   "outputs": [],
   "source": [
    "# ========================================= 互易条件下的微分方程组 ========================\n",
    "r_eq1 = Equality(diff(a(t),t,1),-(kappa_a/2+I*omega)*a(t)-I*J*b(t)-I*Epsilon*sp.exp(-I*omegaL*t))\n",
    "r_eq2 = Equality(diff(b(t),t,1),-(kappa_b/2+I*omega)*b(t)-I*sp.conjugate(J)*a(t))\n",
    "# 替换\n",
    "r_eq1 = subs_rmy(r_eq1)\n",
    "r_eq2 = subs_rmy(r_eq2)\n",
    "# 求解微分方程组\n",
    "rab = dsolve([r_eq1,r_eq2],ics={a(0):0,b(0):0})\n",
    "ra = rab[0].rhs\n",
    "rb = rab[1].rhs\n",
    "r_rbdb = sp.conjugate(rb)*rb"
   ]
  },
  {
   "cell_type": "code",
   "execution_count": 44,
   "id": "0b2d042b-4083-494e-89a7-23a441be846f",
   "metadata": {},
   "outputs": [],
   "source": [
    "# 求η随着耦合强度J变化的图像\n",
    "#======================================   替换函数  ================================\n",
    "# 非互易 最优 条件的替换\n",
    "def subs_opnrmy(para):\n",
    "    para = para.subs({\n",
    "       Lambda_a:opnr_Lambda_a_val,Lambda_b:opnr_Lambda_b_val,\\\n",
    "       Epsilon:Epsilon_val,omega:omega_val,omegaL:omegaL_val,\\\n",
    "       mu:mu_val,Gamma:Gamma_val,t:8000\n",
    "    })\n",
    "    return para\n",
    "# 非互易 正常 条件下的替换\n",
    "def subs_nrmy(para):\n",
    "    para = para.subs({\n",
    "        Lambda_a:Lambda_a_val,Lambda_b:Lambda_b_val,Gamma:Gamma_val,\\\n",
    "        Epsilon:Epsilon_val,omega:omega_val,omegaL:omegaL_val,\\\n",
    "        mu:mu_val,t:8000\n",
    "    })\n",
    "    return para\n",
    "# 互易条件下的替换\n",
    "def subs_rmy(para):\n",
    "    para = para.subs({\n",
    "        kappa_a:kappa_a_val,kappa_b:kappa_b_val,\\\n",
    "        omega:omega_val,omegaL:omegaL_val,\\\n",
    "        Epsilon:Epsilon_val,t:8000\n",
    "    })\n",
    "    return para"
   ]
  },
  {
   "cell_type": "code",
   "execution_count": 45,
   "id": "7b71bb2b-51be-49bb-96d7-206034e143e4",
   "metadata": {},
   "outputs": [],
   "source": [
    "nr_eq1 = Equality(diff(a(t),t,1),-(Lambda_a/2+I*omega)*a(t)-I*Epsilon*sp.exp(-I*omegaL*t))\n",
    "nr_eq2 = Equality(diff(b(t),t,1),-(Lambda_b/2+I*omega)*b(t)+sp.conjugate(mu)*Gamma*a(t))\n",
    "opnr_eq1 = Equality(diff(a(t),t,1),-(Lambda_a/2+I*omega)*a(t)-I*Epsilon*sp.exp(-I*omegaL*t))\n",
    "opnr_eq2 = Equality(diff(b(t),t,1),-(Lambda_b/2+I*omega)*b(t)+sp.conjugate(mu)*Gamma*a(t))\n",
    "r_eq1 = Equality(diff(a(t),t,1),-(kappa_a/2+I*omega)*a(t)-I*J*b(t)-I*Epsilon*sp.exp(-I*omegaL*t))\n",
    "r_eq2 = Equality(diff(b(t),t,1),-(kappa_b/2+I*omega)*b(t)-I*sp.conjugate(J)*a(t))"
   ]
  },
  {
   "cell_type": "code",
   "execution_count": 48,
   "id": "7200cb69-4e94-4134-81db-1d3012d7db23",
   "metadata": {},
   "outputs": [],
   "source": [
    "# 替换\n",
    "Jnr_eq1 = subs_nrmy(nr_eq1)\n",
    "Jnr_eq2 = subs_nrmy(nr_eq2)\n",
    "Jopnr_eq1 = subs_opnrmy(opnr_eq1)\n",
    "Jopnr_eq2 = subs_opnrmy(opnr_eq2)\n",
    "Jr_eq1 = subs_rmy(r_eq1)\n",
    "Jr_eq2 = subs_rmy(r_eq2)"
   ]
  },
  {
   "cell_type": "code",
   "execution_count": 49,
   "id": "a701eec0-4c9e-4b4e-862c-ad546454758e",
   "metadata": {},
   "outputs": [
    {
     "ename": "IndexError",
     "evalue": "Index out of range: a[1]",
     "output_type": "error",
     "traceback": [
      "\u001b[1;31m---------------------------------------------------------------------------\u001b[0m",
      "\u001b[1;31mIndexError\u001b[0m                                Traceback (most recent call last)",
      "Cell \u001b[1;32mIn[49], line 1\u001b[0m\n\u001b[1;32m----> 1\u001b[0m Jnr_rab \u001b[38;5;241m=\u001b[39m \u001b[43mdsolve\u001b[49m\u001b[43m(\u001b[49m\u001b[43m[\u001b[49m\u001b[43mJnr_eq1\u001b[49m\u001b[43m,\u001b[49m\u001b[43mJnr_eq2\u001b[49m\u001b[43m]\u001b[49m\u001b[43m,\u001b[49m\u001b[43mics\u001b[49m\u001b[38;5;241;43m=\u001b[39;49m\u001b[43m{\u001b[49m\u001b[43ma\u001b[49m\u001b[43m(\u001b[49m\u001b[38;5;241;43m0\u001b[39;49m\u001b[43m)\u001b[49m\u001b[43m:\u001b[49m\u001b[38;5;241;43m0\u001b[39;49m\u001b[43m,\u001b[49m\u001b[43mb\u001b[49m\u001b[43m(\u001b[49m\u001b[38;5;241;43m0\u001b[39;49m\u001b[43m)\u001b[49m\u001b[43m:\u001b[49m\u001b[38;5;241;43m0\u001b[39;49m\u001b[43m}\u001b[49m\u001b[43m)\u001b[49m\n\u001b[0;32m      2\u001b[0m Jopnr_rab \u001b[38;5;241m=\u001b[39m dsolve([Jopnr_eq1,Jopnr_eq2],ics\u001b[38;5;241m=\u001b[39m{a(\u001b[38;5;241m0\u001b[39m):\u001b[38;5;241m0\u001b[39m,b(\u001b[38;5;241m0\u001b[39m):\u001b[38;5;241m0\u001b[39m})\n\u001b[0;32m      3\u001b[0m Jr_rab \u001b[38;5;241m=\u001b[39m dsolve([Jr_eq1,Jr_eq2],ics\u001b[38;5;241m=\u001b[39m{a(\u001b[38;5;241m0\u001b[39m):\u001b[38;5;241m0\u001b[39m,b(\u001b[38;5;241m0\u001b[39m):\u001b[38;5;241m0\u001b[39m})\n",
      "File \u001b[1;32mD:\\PYENV\\SCI\\lib\\site-packages\\sympy\\solvers\\ode\\ode.py:559\u001b[0m, in \u001b[0;36mdsolve\u001b[1;34m(eq, func, hint, simplify, ics, xi, eta, x0, n, **kwargs)\u001b[0m\n\u001b[0;32m    553\u001b[0m \u001b[38;5;66;03m# This may have to be changed in future\u001b[39;00m\n\u001b[0;32m    554\u001b[0m \u001b[38;5;66;03m# when we have weakly and strongly\u001b[39;00m\n\u001b[0;32m    555\u001b[0m \u001b[38;5;66;03m# connected components. This have to\u001b[39;00m\n\u001b[0;32m    556\u001b[0m \u001b[38;5;66;03m# changed to show the systems that haven't\u001b[39;00m\n\u001b[0;32m    557\u001b[0m \u001b[38;5;66;03m# been solved.\u001b[39;00m\n\u001b[0;32m    558\u001b[0m \u001b[38;5;28;01mtry\u001b[39;00m:\n\u001b[1;32m--> 559\u001b[0m     sol \u001b[38;5;241m=\u001b[39m \u001b[43mdsolve_system\u001b[49m\u001b[43m(\u001b[49m\u001b[43meq\u001b[49m\u001b[43m,\u001b[49m\u001b[43m \u001b[49m\u001b[43mfuncs\u001b[49m\u001b[38;5;241;43m=\u001b[39;49m\u001b[43mfunc\u001b[49m\u001b[43m,\u001b[49m\u001b[43m \u001b[49m\u001b[43mics\u001b[49m\u001b[38;5;241;43m=\u001b[39;49m\u001b[43mics\u001b[49m\u001b[43m,\u001b[49m\u001b[43m \u001b[49m\u001b[43mdoit\u001b[49m\u001b[38;5;241;43m=\u001b[39;49m\u001b[38;5;28;43;01mTrue\u001b[39;49;00m\u001b[43m)\u001b[49m\n\u001b[0;32m    560\u001b[0m     \u001b[38;5;28;01mreturn\u001b[39;00m sol[\u001b[38;5;241m0\u001b[39m] \u001b[38;5;28;01mif\u001b[39;00m \u001b[38;5;28mlen\u001b[39m(sol) \u001b[38;5;241m==\u001b[39m \u001b[38;5;241m1\u001b[39m \u001b[38;5;28;01melse\u001b[39;00m sol\n\u001b[0;32m    561\u001b[0m \u001b[38;5;28;01mexcept\u001b[39;00m \u001b[38;5;167;01mNotImplementedError\u001b[39;00m:\n",
      "File \u001b[1;32mD:\\PYENV\\SCI\\lib\\site-packages\\sympy\\solvers\\ode\\systems.py:2100\u001b[0m, in \u001b[0;36mdsolve_system\u001b[1;34m(eqs, funcs, t, ics, doit, simplify)\u001b[0m\n\u001b[0;32m   2097\u001b[0m     t \u001b[38;5;241m=\u001b[39m \u001b[38;5;28mlist\u001b[39m(\u001b[38;5;28mlist\u001b[39m(eqs[\u001b[38;5;241m0\u001b[39m]\u001b[38;5;241m.\u001b[39matoms(Derivative))[\u001b[38;5;241m0\u001b[39m]\u001b[38;5;241m.\u001b[39matoms(Symbol))[\u001b[38;5;241m0\u001b[39m]\n\u001b[0;32m   2099\u001b[0m sols \u001b[38;5;241m=\u001b[39m []\n\u001b[1;32m-> 2100\u001b[0m canon_eqs \u001b[38;5;241m=\u001b[39m \u001b[43mcanonical_odes\u001b[49m\u001b[43m(\u001b[49m\u001b[43meqs\u001b[49m\u001b[43m,\u001b[49m\u001b[43m \u001b[49m\u001b[43mfuncs\u001b[49m\u001b[43m,\u001b[49m\u001b[43m \u001b[49m\u001b[43mt\u001b[49m\u001b[43m)\u001b[49m\n\u001b[0;32m   2102\u001b[0m \u001b[38;5;28;01mfor\u001b[39;00m canon_eq \u001b[38;5;129;01min\u001b[39;00m canon_eqs:\n\u001b[0;32m   2103\u001b[0m     \u001b[38;5;28;01mtry\u001b[39;00m:\n",
      "File \u001b[1;32mD:\\PYENV\\SCI\\lib\\site-packages\\sympy\\solvers\\ode\\systems.py:1071\u001b[0m, in \u001b[0;36mcanonical_odes\u001b[1;34m(eqs, funcs, t)\u001b[0m\n\u001b[0;32m   1067\u001b[0m \u001b[38;5;28;01mfrom\u001b[39;00m \u001b[38;5;21;01msympy\u001b[39;00m\u001b[38;5;21;01m.\u001b[39;00m\u001b[38;5;21;01msolvers\u001b[39;00m\u001b[38;5;21;01m.\u001b[39;00m\u001b[38;5;21;01msolvers\u001b[39;00m \u001b[38;5;28;01mimport\u001b[39;00m solve\n\u001b[0;32m   1069\u001b[0m order \u001b[38;5;241m=\u001b[39m _get_func_order(eqs, funcs)\n\u001b[1;32m-> 1071\u001b[0m canon_eqs \u001b[38;5;241m=\u001b[39m \u001b[43msolve\u001b[49m\u001b[43m(\u001b[49m\u001b[43meqs\u001b[49m\u001b[43m,\u001b[49m\u001b[43m \u001b[49m\u001b[38;5;241;43m*\u001b[39;49m\u001b[43m[\u001b[49m\u001b[43mfunc\u001b[49m\u001b[38;5;241;43m.\u001b[39;49m\u001b[43mdiff\u001b[49m\u001b[43m(\u001b[49m\u001b[43mt\u001b[49m\u001b[43m,\u001b[49m\u001b[43m \u001b[49m\u001b[43morder\u001b[49m\u001b[43m[\u001b[49m\u001b[43mfunc\u001b[49m\u001b[43m]\u001b[49m\u001b[43m)\u001b[49m\u001b[43m \u001b[49m\u001b[38;5;28;43;01mfor\u001b[39;49;00m\u001b[43m \u001b[49m\u001b[43mfunc\u001b[49m\u001b[43m \u001b[49m\u001b[38;5;129;43;01min\u001b[39;49;00m\u001b[43m \u001b[49m\u001b[43mfuncs\u001b[49m\u001b[43m]\u001b[49m\u001b[43m,\u001b[49m\u001b[43m \u001b[49m\u001b[38;5;28;43mdict\u001b[39;49m\u001b[38;5;241;43m=\u001b[39;49m\u001b[38;5;28;43;01mTrue\u001b[39;49;00m\u001b[43m)\u001b[49m\n\u001b[0;32m   1073\u001b[0m systems \u001b[38;5;241m=\u001b[39m []\n\u001b[0;32m   1074\u001b[0m \u001b[38;5;28;01mfor\u001b[39;00m eq \u001b[38;5;129;01min\u001b[39;00m canon_eqs:\n",
      "File \u001b[1;32mD:\\PYENV\\SCI\\lib\\site-packages\\sympy\\solvers\\solvers.py:1147\u001b[0m, in \u001b[0;36msolve\u001b[1;34m(f, *symbols, **flags)\u001b[0m\n\u001b[0;32m   1145\u001b[0m         solution \u001b[38;5;241m=\u001b[39m _solve(f[\u001b[38;5;241m0\u001b[39m], \u001b[38;5;241m*\u001b[39msymbols, \u001b[38;5;241m*\u001b[39m\u001b[38;5;241m*\u001b[39mflags)\n\u001b[0;32m   1146\u001b[0m \u001b[38;5;28;01melse\u001b[39;00m:\n\u001b[1;32m-> 1147\u001b[0m     linear, solution \u001b[38;5;241m=\u001b[39m _solve_system(f, symbols, \u001b[38;5;241m*\u001b[39m\u001b[38;5;241m*\u001b[39mflags)\n\u001b[0;32m   1148\u001b[0m \u001b[38;5;28;01massert\u001b[39;00m \u001b[38;5;28mtype\u001b[39m(solution) \u001b[38;5;129;01mis\u001b[39;00m \u001b[38;5;28mlist\u001b[39m\n\u001b[0;32m   1149\u001b[0m \u001b[38;5;28;01massert\u001b[39;00m \u001b[38;5;129;01mnot\u001b[39;00m solution \u001b[38;5;129;01mor\u001b[39;00m \u001b[38;5;28mtype\u001b[39m(solution[\u001b[38;5;241m0\u001b[39m]) \u001b[38;5;129;01mis\u001b[39;00m \u001b[38;5;28mdict\u001b[39m, solution\n",
      "File \u001b[1;32mD:\\PYENV\\SCI\\lib\\site-packages\\sympy\\solvers\\solvers.py:1765\u001b[0m, in \u001b[0;36m_solve_system\u001b[1;34m(exprs, symbols, **flags)\u001b[0m\n\u001b[0;32m   1763\u001b[0m subsyms \u001b[38;5;241m=\u001b[39m \u001b[38;5;28msorted\u001b[39m(subsyms, key \u001b[38;5;241m=\u001b[39m \u001b[38;5;28;01mlambda\u001b[39;00m x: sym_indices[x])\n\u001b[0;32m   1764\u001b[0m flags[\u001b[38;5;124m'\u001b[39m\u001b[38;5;124m_split\u001b[39m\u001b[38;5;124m'\u001b[39m] \u001b[38;5;241m=\u001b[39m \u001b[38;5;28;01mFalse\u001b[39;00m  \u001b[38;5;66;03m# skip split step\u001b[39;00m\n\u001b[1;32m-> 1765\u001b[0m _linear, subsol \u001b[38;5;241m=\u001b[39m _solve_system(subexpr, subsyms, \u001b[38;5;241m*\u001b[39m\u001b[38;5;241m*\u001b[39mflags)\n\u001b[0;32m   1766\u001b[0m \u001b[38;5;28;01mif\u001b[39;00m linear:\n\u001b[0;32m   1767\u001b[0m     linear \u001b[38;5;241m=\u001b[39m linear \u001b[38;5;129;01mand\u001b[39;00m _linear\n",
      "File \u001b[1;32mD:\\PYENV\\SCI\\lib\\site-packages\\sympy\\solvers\\solvers.py:1815\u001b[0m, in \u001b[0;36m_solve_system\u001b[1;34m(exprs, symbols, **flags)\u001b[0m\n\u001b[0;32m   1813\u001b[0m \u001b[38;5;28;01mtry\u001b[39;00m:\n\u001b[0;32m   1814\u001b[0m     j \u001b[38;5;241m=\u001b[39m monom\u001b[38;5;241m.\u001b[39mindex(\u001b[38;5;241m1\u001b[39m)\n\u001b[1;32m-> 1815\u001b[0m     \u001b[43mmatrix\u001b[49m\u001b[43m[\u001b[49m\u001b[43mi\u001b[49m\u001b[43m,\u001b[49m\u001b[43m \u001b[49m\u001b[43mj\u001b[49m\u001b[43m]\u001b[49m \u001b[38;5;241m=\u001b[39m coeff\n\u001b[0;32m   1816\u001b[0m \u001b[38;5;28;01mexcept\u001b[39;00m \u001b[38;5;167;01mValueError\u001b[39;00m:\n\u001b[0;32m   1817\u001b[0m     matrix[i, m] \u001b[38;5;241m=\u001b[39m \u001b[38;5;241m-\u001b[39mcoeff\n",
      "File \u001b[1;32mD:\\PYENV\\SCI\\lib\\site-packages\\sympy\\matrices\\repmatrix.py:400\u001b[0m, in \u001b[0;36mMutableRepMatrix.__setitem__\u001b[1;34m(self, key, value)\u001b[0m\n\u001b[0;32m    360\u001b[0m \u001b[38;5;28;01mdef\u001b[39;00m \u001b[38;5;21m__setitem__\u001b[39m(\u001b[38;5;28mself\u001b[39m, key, value):\n\u001b[0;32m    361\u001b[0m \u001b[38;5;250m    \u001b[39m\u001b[38;5;124;03m\"\"\"\u001b[39;00m\n\u001b[0;32m    362\u001b[0m \n\u001b[0;32m    363\u001b[0m \u001b[38;5;124;03m    Examples\u001b[39;00m\n\u001b[1;32m   (...)\u001b[0m\n\u001b[0;32m    398\u001b[0m \u001b[38;5;124;03m    [2, 2, 4, 2]])\u001b[39;00m\n\u001b[0;32m    399\u001b[0m \u001b[38;5;124;03m    \"\"\"\u001b[39;00m\n\u001b[1;32m--> 400\u001b[0m     rv \u001b[38;5;241m=\u001b[39m \u001b[38;5;28;43mself\u001b[39;49m\u001b[38;5;241;43m.\u001b[39;49m\u001b[43m_setitem\u001b[49m\u001b[43m(\u001b[49m\u001b[43mkey\u001b[49m\u001b[43m,\u001b[49m\u001b[43m \u001b[49m\u001b[43mvalue\u001b[49m\u001b[43m)\u001b[49m\n\u001b[0;32m    401\u001b[0m     \u001b[38;5;28;01mif\u001b[39;00m rv \u001b[38;5;129;01mis\u001b[39;00m \u001b[38;5;129;01mnot\u001b[39;00m \u001b[38;5;28;01mNone\u001b[39;00m:\n\u001b[0;32m    402\u001b[0m         i, j, value \u001b[38;5;241m=\u001b[39m rv\n",
      "File \u001b[1;32mD:\\PYENV\\SCI\\lib\\site-packages\\sympy\\matrices\\matrices.py:1157\u001b[0m, in \u001b[0;36mMatrixBase._setitem\u001b[1;34m(self, key, value)\u001b[0m\n\u001b[0;32m   1154\u001b[0m \u001b[38;5;28;01mfrom\u001b[39;00m \u001b[38;5;21;01m.\u001b[39;00m\u001b[38;5;21;01mdense\u001b[39;00m \u001b[38;5;28;01mimport\u001b[39;00m Matrix\n\u001b[0;32m   1156\u001b[0m is_slice \u001b[38;5;241m=\u001b[39m \u001b[38;5;28misinstance\u001b[39m(key, \u001b[38;5;28mslice\u001b[39m)\n\u001b[1;32m-> 1157\u001b[0m i, j \u001b[38;5;241m=\u001b[39m key \u001b[38;5;241m=\u001b[39m \u001b[38;5;28;43mself\u001b[39;49m\u001b[38;5;241;43m.\u001b[39;49m\u001b[43mkey2ij\u001b[49m\u001b[43m(\u001b[49m\u001b[43mkey\u001b[49m\u001b[43m)\u001b[49m\n\u001b[0;32m   1158\u001b[0m is_mat \u001b[38;5;241m=\u001b[39m \u001b[38;5;28misinstance\u001b[39m(value, MatrixBase)\n\u001b[0;32m   1159\u001b[0m \u001b[38;5;28;01mif\u001b[39;00m \u001b[38;5;28misinstance\u001b[39m(i, \u001b[38;5;28mslice\u001b[39m) \u001b[38;5;129;01mor\u001b[39;00m \u001b[38;5;28misinstance\u001b[39m(j, \u001b[38;5;28mslice\u001b[39m):\n",
      "File \u001b[1;32mD:\\PYENV\\SCI\\lib\\site-packages\\sympy\\matrices\\matrices.py:1810\u001b[0m, in \u001b[0;36mMatrixBase.key2ij\u001b[1;34m(self, key)\u001b[0m\n\u001b[0;32m   1808\u001b[0m     \u001b[38;5;28;01mif\u001b[39;00m \u001b[38;5;129;01mnot\u001b[39;00m \u001b[38;5;28mlen\u001b[39m(key) \u001b[38;5;241m==\u001b[39m \u001b[38;5;241m2\u001b[39m:\n\u001b[0;32m   1809\u001b[0m         \u001b[38;5;28;01mraise\u001b[39;00m \u001b[38;5;167;01mTypeError\u001b[39;00m(\u001b[38;5;124m'\u001b[39m\u001b[38;5;124mkey must be a sequence of length 2\u001b[39m\u001b[38;5;124m'\u001b[39m)\n\u001b[1;32m-> 1810\u001b[0m     \u001b[38;5;28;01mreturn\u001b[39;00m [a2idx(i, n) \u001b[38;5;28;01mif\u001b[39;00m \u001b[38;5;129;01mnot\u001b[39;00m \u001b[38;5;28misinstance\u001b[39m(i, \u001b[38;5;28mslice\u001b[39m) \u001b[38;5;28;01melse\u001b[39;00m i\n\u001b[0;32m   1811\u001b[0m             \u001b[38;5;28;01mfor\u001b[39;00m i, n \u001b[38;5;129;01min\u001b[39;00m \u001b[38;5;28mzip\u001b[39m(key, \u001b[38;5;28mself\u001b[39m\u001b[38;5;241m.\u001b[39mshape)]\n\u001b[0;32m   1812\u001b[0m \u001b[38;5;28;01melif\u001b[39;00m \u001b[38;5;28misinstance\u001b[39m(key, \u001b[38;5;28mslice\u001b[39m):\n\u001b[0;32m   1813\u001b[0m     \u001b[38;5;28;01mreturn\u001b[39;00m key\u001b[38;5;241m.\u001b[39mindices(\u001b[38;5;28mlen\u001b[39m(\u001b[38;5;28mself\u001b[39m))[:\u001b[38;5;241m2\u001b[39m]\n",
      "File \u001b[1;32mD:\\PYENV\\SCI\\lib\\site-packages\\sympy\\matrices\\matrices.py:1810\u001b[0m, in \u001b[0;36m<listcomp>\u001b[1;34m(.0)\u001b[0m\n\u001b[0;32m   1808\u001b[0m     \u001b[38;5;28;01mif\u001b[39;00m \u001b[38;5;129;01mnot\u001b[39;00m \u001b[38;5;28mlen\u001b[39m(key) \u001b[38;5;241m==\u001b[39m \u001b[38;5;241m2\u001b[39m:\n\u001b[0;32m   1809\u001b[0m         \u001b[38;5;28;01mraise\u001b[39;00m \u001b[38;5;167;01mTypeError\u001b[39;00m(\u001b[38;5;124m'\u001b[39m\u001b[38;5;124mkey must be a sequence of length 2\u001b[39m\u001b[38;5;124m'\u001b[39m)\n\u001b[1;32m-> 1810\u001b[0m     \u001b[38;5;28;01mreturn\u001b[39;00m [\u001b[43ma2idx\u001b[49m\u001b[43m(\u001b[49m\u001b[43mi\u001b[49m\u001b[43m,\u001b[49m\u001b[43m \u001b[49m\u001b[43mn\u001b[49m\u001b[43m)\u001b[49m \u001b[38;5;28;01mif\u001b[39;00m \u001b[38;5;129;01mnot\u001b[39;00m \u001b[38;5;28misinstance\u001b[39m(i, \u001b[38;5;28mslice\u001b[39m) \u001b[38;5;28;01melse\u001b[39;00m i\n\u001b[0;32m   1811\u001b[0m             \u001b[38;5;28;01mfor\u001b[39;00m i, n \u001b[38;5;129;01min\u001b[39;00m \u001b[38;5;28mzip\u001b[39m(key, \u001b[38;5;28mself\u001b[39m\u001b[38;5;241m.\u001b[39mshape)]\n\u001b[0;32m   1812\u001b[0m \u001b[38;5;28;01melif\u001b[39;00m \u001b[38;5;28misinstance\u001b[39m(key, \u001b[38;5;28mslice\u001b[39m):\n\u001b[0;32m   1813\u001b[0m     \u001b[38;5;28;01mreturn\u001b[39;00m key\u001b[38;5;241m.\u001b[39mindices(\u001b[38;5;28mlen\u001b[39m(\u001b[38;5;28mself\u001b[39m))[:\u001b[38;5;241m2\u001b[39m]\n",
      "File \u001b[1;32mD:\\PYENV\\SCI\\lib\\site-packages\\sympy\\matrices\\common.py:3189\u001b[0m, in \u001b[0;36ma2idx\u001b[1;34m(j, n)\u001b[0m\n\u001b[0;32m   3187\u001b[0m         j \u001b[38;5;241m+\u001b[39m\u001b[38;5;241m=\u001b[39m n\n\u001b[0;32m   3188\u001b[0m     \u001b[38;5;28;01mif\u001b[39;00m \u001b[38;5;129;01mnot\u001b[39;00m (j \u001b[38;5;241m>\u001b[39m\u001b[38;5;241m=\u001b[39m \u001b[38;5;241m0\u001b[39m \u001b[38;5;129;01mand\u001b[39;00m j \u001b[38;5;241m<\u001b[39m n):\n\u001b[1;32m-> 3189\u001b[0m         \u001b[38;5;28;01mraise\u001b[39;00m \u001b[38;5;167;01mIndexError\u001b[39;00m(\u001b[38;5;124m\"\u001b[39m\u001b[38;5;124mIndex out of range: a[\u001b[39m\u001b[38;5;132;01m%s\u001b[39;00m\u001b[38;5;124m]\u001b[39m\u001b[38;5;124m\"\u001b[39m \u001b[38;5;241m%\u001b[39m (j,))\n\u001b[0;32m   3190\u001b[0m \u001b[38;5;28;01mreturn\u001b[39;00m \u001b[38;5;28mint\u001b[39m(j)\n",
      "\u001b[1;31mIndexError\u001b[0m: Index out of range: a[1]"
     ]
    }
   ],
   "source": [
    "Jnr_rab = dsolve([Jnr_eq1,Jnr_eq2],ics={a(0):0,b(0):0})\n",
    "# Jopnr_rab = dsolve([Jopnr_eq1,Jopnr_eq2],ics={a(0):0,b(0):0})\n",
    "# Jr_rab = dsolve([Jr_eq1,Jr_eq2],ics={a(0):0,b(0):0})\n",
    "# Jnr_b = Jnr_rab[1].rhs\n",
    "# Jopnr_b = Jopnr_rab[1].rhs\n",
    "# Jr_b = Jr_rab[1].rhs"
   ]
  },
  {
   "cell_type": "code",
   "execution_count": null,
   "id": "2271b9d4-9043-48ce-bc80-6603e345d673",
   "metadata": {},
   "outputs": [],
   "source": [
    "Jnr_bdb = sp.conjugate(Jnr_b)*Jnr_b\n",
    "Jopnr_bdb = sp.conjugate(Jopnr_b)*Jopnr_b\n",
    "Jr_bdb = sp.conjugate(Jr_b)*Jr_b"
   ]
  },
  {
   "cell_type": "code",
   "execution_count": 43,
   "id": "a89424a1-cd0c-4a45-a938-44382d67fd55",
   "metadata": {},
   "outputs": [
    {
     "data": {
      "image/png": "[encoded data removed]",
      "text/plain": [
       "<Figure size 900x600 with 2 Axes>"
      ]
     },
     "metadata": {},
     "output_type": "display_data"
    }
   ],
   "source": [
    "import numpy as np\n",
    "import matplotlib.pyplot as plt\n",
    "from matplotlib.ticker import MultipleLocator,FormatStrFormatter\n",
    "\n",
    "ymajorLocator1 = MultipleLocator(5)\n",
    "yminorLocator1 = MultipleLocator(1)\n",
    "\n",
    "\n",
    "tlist = np.linspace(0.001,2000,8000)\n",
    "nr_rbdbf = sp.lambdify(t,nr_rbdb,'numpy')\n",
    "opnr_rbdbf = sp.lambdify(t,opnr_rbdb,'numpy')\n",
    "r_rbdbf = sp.lambdify(t,r_rbdb,'numpy')\n",
    "nr_r = np.real(nr_rbdbf(tlist))\n",
    "opnr_r = np.real(opnr_rbdbf(tlist))\n",
    "r_r = np.real(r_rbdbf(tlist))\n",
    "fig,ax = plt.subplots(nrows=2,ncols=1,sharex=True,figsize=(9,6))\n",
    "ax[0].plot(J_val*tlist,nr_r,'b',label=r\"$E_{B}^{nr}$\",linewidth=2)\n",
    "ax[0].plot(J_val*tlist,opnr_r,'k',label=r'$E_{B,opt}^{nr}$',linewidth=2)\n",
    "ax[0].plot(J_val*tlist,r_r,'r',label=r'$E_B$',linewidth=2)\n",
    "ax[0].set_xticks([0,2,4,6,8,10],['0','2','4','6','8','10'])\n",
    "ax[0].set_yticks([0,10,20],['0','10','20'])\n",
    "ax[0].tick_params(direction='in', length=6, width=0.3,grid_alpha=0.5)\n",
    "ax[0].yaxis.set_major_locator(ymajorLocator)\n",
    "ax[0].yaxis.set_minor_locator(yminorLocator)\n",
    "ax[0].legend()\n",
    "ax[1].plot(J_val*tlist,nr_r/r_r,'b',label=r'$\\eta_{BB}(t)$',linewidth=2)\n",
    "ax[1].plot(J_val*tlist,opnr_r / r_r,'r',label=r'$\\eta_{BB}^{opt}(t)$',linewidth=2)\n",
    "ax[1].plot(J_val*tlist,np.ones_like(tlist),linestyle='--',color='gray',linewidth=2)\n",
    "ax[1].set_yticks([1,2,3,4],['1','2','3','4'])\n",
    "# ax[1].yaxis.set_major_locator(ymajorLocator)\n",
    "# ax[1].yaxis.set_minor_locator(yminorLocator)\n",
    "ax[1].legend()\n",
    "plt.show()"
   ]
  },
  {
   "cell_type": "code",
   "execution_count": null,
   "id": "2e7e78a8-0f26-4f98-b070-9b01b2f5527d",
   "metadata": {},
   "outputs": [],
   "source": []
  }
 ],
 "metadata": {
  "kernelspec": {
   "display_name": "Python 3 (ipykernel)",
   "language": "python",
   "name": "python3"
  },
  "language_info": {
   "codemirror_mode": {
    "name": "ipython",
    "version": 3
   },
   "file_extension": ".py",
   "mimetype": "text/x-python",
   "name": "python",
   "nbconvert_exporter": "python",
   "pygments_lexer": "ipython3",
   "version": "3.9.13"
  }
 },
 "nbformat": 4,
 "nbformat_minor": 5
}
