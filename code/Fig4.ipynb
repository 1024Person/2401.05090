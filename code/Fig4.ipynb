{
 "cells": [
  {
   "cell_type": "code",
   "execution_count": 74,
   "id": "2e85d41d-63ab-4070-a1eb-6e15f3a7b8aa",
   "metadata": {},
   "outputs": [],
   "source": [
    "import numpy as np\n",
    "import matplotlib.pyplot as plt\n",
    "import sympy as sp\n",
    "from sympy import diff,dsolve,simplify,Function,I,Equality"
   ]
  },
  {
   "cell_type": "code",
   "execution_count": 75,
   "id": "c54c2f27-7a6c-4348-89d1-bd21dfe1dd01",
   "metadata": {},
   "outputs": [],
   "source": [
    "ra = Function('a')\n",
    "rb = Function('b')\n",
    "rad = Function('ad')\n",
    "rbd = Function('bd')\n",
    "\n",
    "a = Function('a')\n",
    "b = Function('b')\n",
    "ada = Function('ada')\n",
    "bdb = Function('bdb')\n",
    "adb = Function('adb')\n",
    "\n",
    "\n",
    "\n",
    "omega = sp.Symbol('omega',real=True,positive=True)\n",
    "omegaL = sp.Symbol('omega_L',real=True,positive=True)\n",
    "Epsilon = sp.Symbol('Epsilon',real=True,positive=True)\n",
    "kappa_a,kappa_b = sp.symbols('kappa_a,kappa_b',real=True,positive=True)\n",
    "\n",
    "mu = sp.Symbol('mu',real=False)\n",
    "Gamma = sp.Symbol('Gamma',real=True,positive=True)\n",
    "J = sp.Symbol('J',real=False)\n",
    "Lambda_a = sp.Symbol('Lambda_a',real=True,positive=True)\n",
    "Lambda_b = sp.Symbol('Lambda_b',real=True,positive=True)\n",
    "t = sp.Symbol('t',real=True)"
   ]
  },
  {
   "cell_type": "code",
   "execution_count": 134,
   "id": "be4f4f19-0acd-4f13-a455-c7230b2793fb",
   "metadata": {},
   "outputs": [],
   "source": [
    "#======================================= 这个是给互易条件下的众多符号赋值 ==================================\n",
    "omega_val = 1\n",
    "omegaL_val= omega_val\n",
    "J_val = 0.02*omega_val\n",
    "Epsilon_val = 0.1*omega_val\n",
    "kappa_val = 0.003*omega_val\n",
    "def subs_rmy(sym):\n",
    "    return sym.subs({\n",
    "        omega:omega_val,omegaL:omegaL_val,\n",
    "        J:J_val,Epsilon:Epsilon_val,\n",
    "        kappa_a:kappa_val,kappa_b:kappa_val\n",
    "    })\n",
    "#====================================== 下面给非互易情况下的众多符号赋值 ===================================\n",
    "Gamma_val = 0.04*omega_val\n",
    "Lambda_val = Gamma_val+kappa_val\n",
    "\n",
    "def subs_nrmy(eq):\n",
    "    return eq.subs({\n",
    "        Lambda_a:Lambda_val,Lambda_b:Lambda_val,\n",
    "        mu:I,Gamma:Gamma_val,Epsilon:Epsilon_val,\n",
    "        omega:omega_val,omegaL:omegaL_val\n",
    "    })"
   ]
  },
  {
   "cell_type": "code",
   "execution_count": 135,
   "id": "076bdb54-1f30-4080-9b21-697b42c8e5b9",
   "metadata": {},
   "outputs": [],
   "source": [
    "#=====================================  互易条件下的方程 ==================================================\n",
    "req1 = Equality(diff(ra(t),t,1),-(kappa_a/2+I*omega)*ra(t)-I*J*rb(t)-I*Epsilon*sp.exp(-I*omegaL*t))\n",
    "req2 = Equality(diff(rb(t),t,1),-(kappa_b/2+I*omega)*rb(t)-I*sp.conjugate(J)*ra(t))\n",
    "req3 = Equality(diff(rad(t),t,1),(-kappa_a/2+I*omega)*rad(t)+I*sp.conjugate(J)*rbd(t)+I*Epsilon*sp.exp(I*omegaL*t))\n",
    "req4 = Equality(diff(rbd(t),t,1),(-kappa_b/2+I*omega)*rbd(t)+I*J*rad(t))\n",
    "# 开始进行替换\n",
    "req1 = subs_rmy(req1)\n",
    "req2 = subs_rmy(req2)\n",
    "req3 = subs_rmy(req3)\n",
    "req4 = subs_rmy(req4)\n",
    "# 求解方程\n",
    "r1 = dsolve([req1,req2],ics={ra(0):0,rb(0):0})\n",
    "r2 = dsolve([req3,req4],ics={rad(0):0,rbd(0):0})\n",
    "# 计算互易条件下的电池能量\n",
    "rbdb = r1[1].rhs*r2[1].rhs"
   ]
  },
  {
   "cell_type": "code",
   "execution_count": 136,
   "id": "de561801-1390-4168-9f0d-60750f6eebfb",
   "metadata": {},
   "outputs": [],
   "source": [
    "#===================================    非互易条件下的方程====================================================\n",
    "nreq1 = Equality(diff(a(t),t,1),-(Lambda_a/2+I*omega)*a(t)-I*Epsilon*sp.exp(-I*omegaL*t))\n",
    "nreq2 = Equality(diff(b(t),t,1),-(Lambda_b/2+I*omega)*b(t)+sp.conjugate(mu)*Gamma*a(t))\n",
    "\n",
    "nreq1 = subs_nrmy(nreq1)\n",
    "nreq2 = subs_nrmy(nreq2)\n",
    "nrr1 = dsolve([nreq1,nreq2],ics={a(0):0,b(0):0})"
   ]
  },
  {
   "cell_type": "code",
   "execution_count": 137,
   "id": "000b7c45-7b05-4668-bd6d-eda60f2eb8ce",
   "metadata": {},
   "outputs": [
    {
     "data": {
      "text/latex": [
       "$\\displaystyle 0.186046511627907 t e^{- t \\left(0.0215 + 1.0 i\\right)} + 8.65332612222823 e^{- t \\left(0.0215 + 1.0 i\\right)} - 8.65332612222823 e^{- 1.0 i t}$"
      ],
      "text/plain": [
       "0.186046511627907*t*exp(-t*(0.0215 + 1.0*I)) + 8.65332612222823*exp(-t*(0.0215 + 1.0*I)) - 8.65332612222823*exp(-1.0*I*t)"
      ]
     },
     "execution_count": 137,
     "metadata": {},
     "output_type": "execute_result"
    }
   ],
   "source": [
    "nrrb = nrr1[1].rhs\n",
    "nrra = nrr1[0].rhs\n",
    "nrrb"
   ]
  },
  {
   "cell_type": "code",
   "execution_count": 138,
   "id": "0ceb403f-09b5-41e9-b82e-4824757a4e28",
   "metadata": {},
   "outputs": [
    {
     "data": {
      "text/latex": [
       "$\\displaystyle 21.6333153055706 + 21.6333153055706 e^{- 0.043 t} - 43.2666306111412 e^{- 0.0215 t}$"
      ],
      "text/plain": [
       "21.6333153055706 + 21.6333153055706*exp(-0.043*t) - 43.2666306111412*exp(-0.0215*t)"
      ]
     },
     "execution_count": 138,
     "metadata": {},
     "output_type": "execute_result"
    }
   ],
   "source": [
    "nreq3 = Equality(diff(ada(t),t,1),-Lambda_a*ada(t)-2*sp.im(sp.exp(I*omegaL*t)*Epsilon*nrra))\n",
    "nreq3 = subs_nrmy(nreq3)\n",
    "# 获取计算结果\n",
    "nrada = dsolve(nreq3,ics={ada(0):0}).rhs\n",
    "nrada"
   ]
  },
  {
   "cell_type": "code",
   "execution_count": 139,
   "id": "7b815986-3788-4b49-b697-3a777c48e52e",
   "metadata": {},
   "outputs": [],
   "source": [
    "# 剩下的方程\n",
    "nreq4 = Equality(diff(bdb(t),t,1),-Lambda_b*bdb(t)+2*sp.re(mu*Gamma*adb(t)))\n",
    "nreq5 = Equality(diff(adb(t),t,1),-(Lambda_a+Lambda_b)/2*adb(t)\\\n",
    "        +sp.conjugate(mu)*Gamma*nrada+I*Epsilon*sp.exp(I*omegaL*t)*nrrb)\n",
    "\n",
    "nreq4 = subs_nrmy(nreq4)\n",
    "nreq5 = subs_nrmy(nreq5)"
   ]
  },
  {
   "cell_type": "code",
   "execution_count": 140,
   "id": "e0a63d77-9986-413c-8b4a-2397ce811a76",
   "metadata": {},
   "outputs": [],
   "source": [
    "# 计算微分方程组\n",
    "nrr2 = dsolve([nreq4,nreq5],ics={bdb(0):0,adb(0):0})\n",
    "\n",
    "nrbdb = nrr2[0].rhs"
   ]
  },
  {
   "cell_type": "code",
   "execution_count": 141,
   "id": "05a5b1a6-644f-45f5-ae4c-495cb4b64523",
   "metadata": {},
   "outputs": [
    {
     "name": "stderr",
     "output_type": "stream",
     "text": [
      "C:\\Users\\82271\\AppData\\Local\\Temp\\ipykernel_9644\\1831030454.py:16: RuntimeWarning: divide by zero encountered in divide\n",
      "  ax[1].plot(J_val*tlist,nr/(r),'r',label=r\"$\\eta_{BB}(t)$\")\n"
     ]
    },
    {
     "data": {
      "image/png": "[encoded data removed]",
      "text/plain": [
       "<Figure size 900x600 with 2 Axes>"
      ]
     },
     "metadata": {},
     "output_type": "display_data"
    }
   ],
   "source": [
    "# 开始画图\n",
    "rbdbf = sp.lambdify(t,rbdb,'numpy')\n",
    "nrbdbf = sp.lambdify(t,nrbdb,'numpy')\n",
    "tlist = np.linspace(0,4000,8000)\n",
    "r = np.real(rbdbf(tlist))\n",
    "nr = np.real(nrbdbf(tlist))\n",
    "# 开始画图\n",
    "\n",
    "fig,ax = plt.subplots(nrows=2,ncols=1,figsize=(9,6),sharex=True)\n",
    "ax[0].plot(J_val*tlist,r,'r',label=r'$E_B$')\n",
    "ax[0].plot(J_val*tlist,nr,'b',label=r'$E_B^{nr}$')\n",
    "# # ax[0].set_yticks([0,40,80],['0','40','80'])\n",
    "ax[0].legend()\n",
    "\n",
    "# 画第二个图\n",
    "ax[1].plot(J_val*tlist,nr/(r),'r',label=r\"$\\eta_{BB}(t)$\")\n",
    "ax[1].legend()\n",
    "ax[1].set_xlabel('Jt')\n",
    "# ax[1].set_xticks([0,20,40,60,80],['0','20','40','60','80'])\n",
    "# ax[1].set_yticks([0,10,20],['0','10','20'])\n",
    "plt.show()"
   ]
  },
  {
   "cell_type": "code",
   "execution_count": null,
   "id": "2e7e78a8-0f26-4f98-b070-9b01b2f5527d",
   "metadata": {},
   "outputs": [],
   "source": []
  }
 ],
 "metadata": {
  "kernelspec": {
   "display_name": "Python 3 (ipykernel)",
   "language": "python",
   "name": "python3"
  },
  "language_info": {
   "codemirror_mode": {
    "name": "ipython",
    "version": 3
   },
   "file_extension": ".py",
   "mimetype": "text/x-python",
   "name": "python",
   "nbconvert_exporter": "python",
   "pygments_lexer": "ipython3",
   "version": "3.9.13"
  }
 },
 "nbformat": 4,
 "nbformat_minor": 5
}
