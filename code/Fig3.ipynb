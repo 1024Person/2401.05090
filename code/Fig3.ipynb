{
 "cells": [
  {
   "cell_type": "markdown",
   "id": "4601096e-5975-4d3e-93f2-60b6f6aa86f3",
   "metadata": {},
   "source": [
    "# 互易和非互易的对比\n",
    "对比传统的互易和非互易的电池性能"
   ]
  },
  {
   "cell_type": "code",
   "execution_count": null,
   "id": "89d0bba5-961a-4fe7-a821-929b730f9a90",
   "metadata": {},
   "outputs": [],
   "source": []
  }
 ],
 "metadata": {
  "kernelspec": {
   "display_name": "Python 3 (ipykernel)",
   "language": "python",
   "name": "python3"
  },
  "language_info": {
   "codemirror_mode": {
    "name": "ipython",
    "version": 3
   },
   "file_extension": ".py",
   "mimetype": "text/x-python",
   "name": "python",
   "nbconvert_exporter": "python",
   "pygments_lexer": "ipython3",
   "version": "3.9.13"
  }
 },
 "nbformat": 4,
 "nbformat_minor": 5
}
