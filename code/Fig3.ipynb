{
 "cells": [
  {
   "cell_type": "markdown",
   "id": "4601096e-5975-4d3e-93f2-60b6f6aa86f3",
   "metadata": {},
   "source": [
    "# 互易和非互易的对比\n",
    "对比传统的互易和非互易的电池性能"
   ]
  },
  {
   "cell_type": "code",
   "execution_count": 43,
   "id": "421e2783-7891-48a0-bcbb-4a0f445d7eee",
   "metadata": {},
   "outputs": [],
   "source": [
    "from sympy.solvers.ode.systems import dsolve_system\n",
    "import sympy as sp\n",
    "from sympy import diff,dsolve,simplify,Function,I,Equality"
   ]
  },
  {
   "cell_type": "code",
   "execution_count": 44,
   "id": "73263dde-b6b8-4ed5-a87d-fc14e21d6b4a",
   "metadata": {},
   "outputs": [],
   "source": [
    "a = Function('a')\n",
    "b = Function('b')\n",
    "ada = Function('ada')\n",
    "bdb = Function('bdb')\n",
    "adb = Function('adb')\n",
    "omega = sp.Symbol('omega',real=True,positive=True)\n",
    "omegaL = sp.Symbol('omega_L',real=True,positive=True)\n",
    "J = sp.Symbol('J',real=False)\n",
    "Epsilon = sp.Symbol('Epsilon',real=True,positive=True)\n",
    "kappa_a,kappa_b = sp.symbols('kappa_a,kappa_b',real=True,positive=True)\n",
    "t = sp.Symbol('t',real=True)"
   ]
  },
  {
   "cell_type": "code",
   "execution_count": 45,
   "id": "2d326bd8-79f2-40ef-86c2-a228d9893121",
   "metadata": {},
   "outputs": [],
   "source": [
    "#======================================= 赋值 ==================================\n",
    "omega_val = 1\n",
    "omegaL_val= omega_val\n",
    "J_val = 0.02*omega_val\n",
    "Epsilon_val = 0.1*omega_val\n",
    "kappa_val = 0.03*omega_val\n",
    "def subs_my(sym):\n",
    "    return sym.subs({\n",
    "        omega:omega_val,omegaL:omegaL_val,\n",
    "        J:J_val,Epsilon:Epsilon_val,\n",
    "        kappa_a:kappa_val,kappa_b:kappa_val\n",
    "    })\n",
    "\n",
    "eq1 = diff(a(t),t,1)+(kappa_a/2+I*omega)*a(t)+I*J*b(t)+I*Epsilon*sp.exp(-I*omegaL*t)\n",
    "eq2 = diff(b(t),t,1)+(kappa_b/2+I*omega)*b(t)+I*sp.conjugate(J)*a(t)\n",
    "\n",
    "eq1 = subs_my(eq1)\n",
    "eq2 = subs_my(eq2)\n",
    "\n",
    "rab = dsolve([eq1,eq2],ics={a(0):0,b(0):0})\n",
    "ra = rab[0].rhs\n",
    "rb = rab[1].rhs"
   ]
  },
  {
   "cell_type": "markdown",
   "id": "78b8118f",
   "metadata": {},
   "source": [
    "# 无法求解\n",
    "这个为什么求解不出来呀！！！难道是需要用到什么方法吗？肯定是存在一个比较特殊的方法，进行处理之后，就能够很容易的求解出来！！！\n",
    "按照论文里给的方法是没法直接求解方程的，所以这里利用二次驱动论文中给的方法，我们利用\n",
    "$$\n",
    "\\langle b^\\dagger b\\rangle=\\langle b^\\dagger\\rangle \\langle b\\rangle\n",
    "$$\n",
    "论文中的方法之所以求不出来，感觉是因为那一组微分方程组没法消元"
   ]
  },
  {
   "cell_type": "code",
   "execution_count": 46,
   "id": "b5e59508-58db-4ff2-9e35-913f1674af81",
   "metadata": {},
   "outputs": [
    {
     "data": {
      "text/latex": [
       "$\\displaystyle - \\left(3.2 - 1.77635683940025 \\cdot 10^{-16} i\\right) e^{1.0 i t} + \\left(1.6 + 1.2 i\\right) e^{- t \\left(0.015 - 0.98 i\\right)} + \\left(1.6 - 1.2 i\\right) e^{- t \\left(0.015 - 1.02 i\\right)}$"
      ],
      "text/plain": [
       "-(3.2 - 1.77635683940025e-16*I)*exp(1.0*I*t) + (1.6 + 1.2*I)*exp(-t*(0.015 - 0.98*I)) + (1.6 - 1.2*I)*exp(-t*(0.015 - 1.02*I))"
      ]
     },
     "execution_count": 46,
     "metadata": {},
     "output_type": "execute_result"
    }
   ],
   "source": [
    "ad = Function('ad')\n",
    "bd = Function('bd')\n",
    "kappa_a,kappa_b = sp.symbols('kappa_a,kappa_b',real=True,positive=True)\n",
    "eq2_1 = sp.Equality(diff(ad(t),t,1),(-kappa_a/2+I*omega)*ad(t)+I*sp.conjugate(J)*bd(t)+I*Epsilon*sp.exp(I*omegaL*t))\n",
    "eq2_2 = sp.Equality(diff(bd(t),t,1),(-kappa_b/2+I*omega)*bd(t)+I*J*ad(t))\n",
    "\n",
    "eq2_1 = subs_my(eq2_1)\n",
    "eq2_2 = subs_my(eq2_2)\n",
    "\n",
    "r2 = dsolve([eq2_1,eq2_2],ics={ad(0):0,bd(0):0})\n",
    "r2[1].rhs"
   ]
  },
  {
   "cell_type": "code",
   "execution_count": 47,
   "id": "fee4982d-590e-4de0-bcfb-283d098424c1",
   "metadata": {},
   "outputs": [],
   "source": [
    "rbd = r2[1].rhs\n",
    "rbdb = rbd*rb\n",
    "r = simplify(rbdb)"
   ]
  },
  {
   "cell_type": "code",
   "execution_count": 48,
   "id": "c676fc47-b59b-4508-a58e-484b71183229",
   "metadata": {},
   "outputs": [
    {
     "data": {
      "image/png": "[encoded data removed]",
      "text/plain": [
       "<Figure size 900x300 with 1 Axes>"
      ]
     },
     "metadata": {},
     "output_type": "display_data"
    }
   ],
   "source": [
    "import numpy as np\n",
    "import matplotlib.pyplot as plt\n",
    "rf = sp.lambdify(t,r,'numpy')\n",
    "tlist=np.linspace(0,4000,4000)\n",
    "rr = rf(tlist)\n",
    "plt.figure(figsize=(9,3))\n",
    "plt.plot(tlist*J_val,np.real(rr),'r')\n",
    "plt.show()"
   ]
  },
  {
   "cell_type": "code",
   "execution_count": null,
   "id": "14cbcfb2-1a36-4135-a560-140ad635ec1e",
   "metadata": {},
   "outputs": [],
   "source": []
  }
 ],
 "metadata": {
  "kernelspec": {
   "display_name": "Python 3 (ipykernel)",
   "language": "python",
   "name": "python3"
  },
  "language_info": {
   "codemirror_mode": {
    "name": "ipython",
    "version": 3
   },
   "file_extension": ".py",
   "mimetype": "text/x-python",
   "name": "python",
   "nbconvert_exporter": "python",
   "pygments_lexer": "ipython3",
   "version": "3.9.13"
  }
 },
 "nbformat": 4,
 "nbformat_minor": 5
}
